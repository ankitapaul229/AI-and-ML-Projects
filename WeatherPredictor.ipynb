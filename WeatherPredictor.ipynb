{
 "cells": [
  {
   "cell_type": "code",
   "execution_count": 1,
   "id": "7e43ffb5-f659-4110-a197-8423fc3d96a6",
   "metadata": {},
   "outputs": [],
   "source": [
    "import numpy as np\n",
    "import pandas as pd\n",
    "import random\n",
    "import datetime\n",
    "import matplotlib.pyplot as plt\n",
    "startTime = datetime.datetime.now()\n",
    "data = pd.read_csv('weatherAUS.csv', header = 0)\n",
    "data = data.drop(columns = 'Date').replace('Yes',1).replace('No',0).replace('N',1).replace('NNE',2).replace('NE',3).replace('ENE',4).replace('E',5).replace('ESE',6).replace('SE',7).replace('SSE',8).replace('S',9).replace('SSW',10).replace('SW',11).replace('WSW',12).replace('W',13).replace('WNW',14).replace('NW',15).replace('NNW',16)\n",
    "df = {}\n",
    "Y = {}\n",
    "t_df = {}\n",
    "t_Y = {}\n",
    "lastKey = data.iloc[0]['Location']\n",
    "begin = 0\n",
    "for i in range(1,len(data)):\n",
    "    if data.iloc[i]['Location']!= lastKey:\n",
    "        df[lastKey] = data.drop(columns = 'Location').iloc[begin: i]\n",
    "        begin, lastKey = i, data.iloc[i]['Location']\n",
    "df[lastKey] = data.drop(columns = 'Location').iloc[begin: len(data)]"
   ]
  },
  {
   "cell_type": "code",
   "execution_count": 2,
   "id": "9dcf9508-584e-4b33-8245-f0757e6fa502",
   "metadata": {
    "tags": []
   },
   "outputs": [],
   "source": [
    "for key in df:\n",
    "    for col in df[key].columns:\n",
    "        if np.mean(df[key][col].isnull())*100 > 40:\n",
    "            df[key].drop(col, axis=1 ,inplace=True)\n",
    "            #print(key +\" \"+ col)\n",
    "    i = 0\n",
    "    for k in range(len(df[key])):\n",
    "        if df[key].iloc[i].isna().sum() > 3:\n",
    "            df[key].drop(df[key].index[i], inplace = True)\n",
    "            i-=1\n",
    "            k+=1\n",
    "        i+=1\n",
    "    for col in df[key].columns:\n",
    "        df[key][col].fillna(df[key][col].mean(), inplace = True)\n",
    "        df[key][col] = df[key][col]/np.max(df[key][col])\n",
    "    test_num = int(len(df[key]) * 0.8)\n",
    "    Y[key] = df[key]['RainTomorrow']\n",
    "    df[key].drop('RainTomorrow', axis = 1, inplace = True)\n",
    "    t_Y[key] = Y[key].iloc[test_num:len(Y[key])]\n",
    "    Y[key].drop(Y[key].index[test_num:len(Y[key])], axis = 0, inplace = True)\n",
    "    t_df[key] = df[key].iloc[test_num:len(df[key])]\n",
    "    df[key].drop(df[key].index[test_num:len(df[key])], axis = 0, inplace = True)\n",
    "            "
   ]
  },
  {
   "cell_type": "code",
   "execution_count": 3,
   "id": "94433950-832a-413a-8917-9bf746a8aa5b",
   "metadata": {},
   "outputs": [],
   "source": [
    "def sigmoid(x):\n",
    "    return np.exp(x)/(1+np.exp(x))"
   ]
  },
  {
   "cell_type": "code",
   "execution_count": 4,
   "id": "561b523f-95cc-4e64-b3ab-a75f1b79b560",
   "metadata": {},
   "outputs": [],
   "source": [
    "def score(bias,weights,features):\n",
    "    return np.dot(weights,features).sum()+ bias"
   ]
  },
  {
   "cell_type": "code",
   "execution_count": 5,
   "id": "a937adf7-3284-45ef-9397-f3ba87422872",
   "metadata": {},
   "outputs": [],
   "source": [
    "def prediction(bias, weights,features):\n",
    "    return sigmoid(score(bias,weights,features))"
   ]
  },
  {
   "cell_type": "code",
   "execution_count": 6,
   "id": "3a25f9d7-5520-4888-8818-c75fad90cf8b",
   "metadata": {},
   "outputs": [],
   "source": [
    "def logLoss(bias,weights,features,label):\n",
    "    h = prediction(bias,weights,features)\n",
    "    return -label*np.log(h) - ((1-label)*np.log(1- h))"
   ]
  },
  {
   "cell_type": "code",
   "execution_count": 7,
   "id": "fb5a2f9f-1602-4e19-937c-8fcbdcc49bc8",
   "metadata": {},
   "outputs": [],
   "source": [
    "def totalLogLoss(bias,weights,features,labels):\n",
    "    totalError = 0\n",
    "    for i in range(len(features)):\n",
    "        totalError+= logLoss(bias,weights,features.iloc[i],labels.iloc[i])\n",
    "    return totalError"
   ]
  },
  {
   "cell_type": "code",
   "execution_count": 8,
   "id": "0002ce9c-53e2-4dd0-a4fa-ad8a23bcee66",
   "metadata": {},
   "outputs": [],
   "source": [
    "def logistic_shift(bias,weights,features,y, n):\n",
    "    #print(features)\n",
    "    h = prediction(bias,weights,features)\n",
    "    for i in range(len(weights)):\n",
    "        weights[i] += (n*(y-h)*features[i])\n",
    "    bias += n*(y-h)\n",
    "    return bias,weights"
   ]
  },
  {
   "cell_type": "code",
   "execution_count": 9,
   "id": "910b5e4d-c817-49c9-939e-93713b36dfeb",
   "metadata": {},
   "outputs": [],
   "source": [
    "def logistic_regression_algo(features,labels, n, epochs, location = ''):\n",
    "    #print(f\"{len(features)} {len(labels)}\")\n",
    "    weights = np.random.rand(len(features.columns))\n",
    "    bias = random.random()\n",
    "    errors = []\n",
    "    for _ in range(epochs):\n",
    "        p = random.randint(0,len(features)-1)\n",
    "        logistic_shift(bias,weights,features.iloc[p],labels.iloc[p], n)\n",
    "        errors.append(totalLogLoss(bias,weights,features,labels))\n",
    "    %matplotlib inline\n",
    "    plt.scatter(x=range(epochs),y=errors)\n",
    "    plt.xlabel(location+\"- epochs\")\n",
    "    plt.ylabel(\"error\")\n",
    "    plt.show()\n",
    "    return bias,weights"
   ]
  },
  {
   "cell_type": "code",
   "execution_count": null,
   "id": "d1dae4ba-d217-4433-9d6b-1dd3b77af04b",
   "metadata": {},
   "outputs": [
    {
     "data": {
      "image/png": "[encoded data removed]",
      "text/plain": [
       "<Figure size 432x288 with 1 Axes>"
      ]
     },
     "metadata": {
      "needs_background": "light"
     },
     "output_type": "display_data"
    }
   ],
   "source": [
    "vals ={}\n",
    "for key in df:\n",
    "    vals[key] = logistic_regression_algo(df[key],Y[key],0.001,100000,key)\n",
    "#bias,weights = logistic_regression_algo(df['Albury'],Y['Albury'],0.001,100,'Albury')"
   ]
  },
  {
   "cell_type": "code",
   "execution_count": null,
   "id": "32b212c2-e6dd-4521-bd2b-6b663037862d",
   "metadata": {},
   "outputs": [],
   "source": [
    "for key in t_df:\n",
    "    Error = []\n",
    "    for i in range(len(t_df[key])):\n",
    "        h = vals[key][0] + np.dot(vals[key][1], t_df[key].iloc[i]).sum()\n",
    "        p=0\n",
    "        if h>=0.5:\n",
    "            p=1\n",
    "        else:\n",
    "            p=0\n",
    "        if p == t_Y[key].iloc[i]:\n",
    "            Error.append(0)\n",
    "        else:\n",
    "            Error.append(np.abs(h-t_Y[key].iloc[i]))\n",
    "    plt.scatter(x = range(len(t_df[key])), y = Error)\n",
    "    plt.xlabel('Sample - '+ key)\n",
    "    plt.ylabel('Error')\n",
    "    plt.show()\n",
    "endTime = datetime.datetime.now()\n",
    "print(f\"Total Time Taken: {endTime-startTime}\")"
   ]
  },
  {
   "cell_type": "code",
   "execution_count": null,
   "id": "38698399-7a9d-4720-a187-b0865e50a09c",
   "metadata": {},
   "outputs": [],
   "source": []
  },
  {
   "cell_type": "code",
   "execution_count": null,
   "id": "37eca14c-b869-4256-98b3-d69b97e5a144",
   "metadata": {},
   "outputs": [],
   "source": []
  }
 ],
 "metadata": {
  "kernelspec": {
   "display_name": "Python 3 (ipykernel)",
   "language": "python",
   "name": "python3"
  },
  "language_info": {
   "codemirror_mode": {
    "name": "ipython",
    "version": 3
   },
   "file_extension": ".py",
   "mimetype": "text/x-python",
   "name": "python",
   "nbconvert_exporter": "python",
   "pygments_lexer": "ipython3",
   "version": "3.9.7"
  }
 },
 "nbformat": 4,
 "nbformat_minor": 5
}
