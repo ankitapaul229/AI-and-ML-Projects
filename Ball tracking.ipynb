{
 "cells": [
  {
   "cell_type": "code",
   "execution_count": 1,
   "id": "0d1b6e39",
   "metadata": {},
   "outputs": [],
   "source": [
    "from collections import deque\n",
    "import cv2\n",
    "import imutils\n",
    "video = cv2.VideoCapture('tennisVid.mp4')"
   ]
  },
  {
   "cell_type": "code",
   "execution_count": 2,
   "id": "d37b2b04",
   "metadata": {},
   "outputs": [],
   "source": [
    "greenLower = (101, 90, 100)\n",
    "greenUpper = (103, 150, 255)\n",
    "pts = deque(maxlen=64)"
   ]
  },
  {
   "cell_type": "code",
   "execution_count": null,
   "id": "bf0d6abe",
   "metadata": {},
   "outputs": [],
   "source": [
    "while True:\n",
    "    frame = video.read()\n",
    "    frame = frame[1]\n",
    "    \n",
    "    if frame is None:\n",
    "        break\n",
    "    frame = imutils.resize(frame, width=600)\n",
    "    frame = frame[45:280, 100:420]\n",
    "    blurred = cv2.GaussianBlur(frame, (11, 11), 0)\n",
    "    hsv = cv2.cvtColor(blurred, cv2.COLOR_BGR2HSV)\n",
    "    mask = cv2.inRange(hsv, greenLower, greenUpper)\n",
    "    #mask = cv2.erode(mask, None, iterations=2)\n",
    "    #mask = cv2.dilate(mask, None, iterations=2)\n",
    "    \n",
    "    cnts = cv2.findContours(mask.copy(), cv2.RETR_EXTERNAL, cv2.CHAIN_APPROX_SIMPLE)\n",
    "    cnts = imutils.grab_contours(cnts)\n",
    "    center = None\n",
    "    \n",
    "    if len(cnts) > 0:\n",
    "        c = max(cnts, key=cv2.contourArea)\n",
    "        ((x, y), radius) = cv2.minEnclosingCircle(c)\n",
    "        M = cv2.moments(c)\n",
    "        if M[\"m00\"] !=0 and M['m00']!=0:\n",
    "            center = (int(M[\"m10\"] / M[\"m00\"]), int(M[\"m01\"] / M[\"m00\"]))\n",
    "        \n",
    "        if radius > 1:\n",
    "            cv2.circle(frame, (int(x), int(y)), int(radius),(0, 255, 255), 2)\n",
    "            cv2.circle(frame, center, 5, (0, 0, 255), -1)\n",
    "    pts.appendleft(center)\n",
    "    \n",
    "    cv2.imshow(\"Frame\", frame)\n",
    "    key = cv2.waitKey(1) & 0xFF\n",
    "    if key == ord(\"q\"):\n",
    "        break\n",
    "cv2.destroyAllWindows()"
   ]
  },
  {
   "cell_type": "code",
   "execution_count": null,
   "id": "1c907401",
   "metadata": {},
   "outputs": [],
   "source": []
  },
  {
   "cell_type": "code",
   "execution_count": null,
   "id": "58718b0f",
   "metadata": {},
   "outputs": [],
   "source": []
  },
  {
   "cell_type": "code",
   "execution_count": null,
   "id": "a910bb78",
   "metadata": {},
   "outputs": [],
   "source": []
  }
 ],
 "metadata": {
  "kernelspec": {
   "display_name": "Python 3 (ipykernel)",
   "language": "python",
   "name": "python3"
  },
  "language_info": {
   "codemirror_mode": {
    "name": "ipython",
    "version": 3
   },
   "file_extension": ".py",
   "mimetype": "text/x-python",
   "name": "python",
   "nbconvert_exporter": "python",
   "pygments_lexer": "ipython3",
   "version": "3.9.7"
  }
 },
 "nbformat": 4,
 "nbformat_minor": 5
}
