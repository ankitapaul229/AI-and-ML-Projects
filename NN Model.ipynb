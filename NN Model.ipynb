{
 "cells": [
  {
   "cell_type": "code",
   "execution_count": 2,
   "id": "645b5f72",
   "metadata": {},
   "outputs": [],
   "source": [
    "import numpy as np\n",
    "import pandas as pd\n",
    "from matplotlib import pyplot as plt"
   ]
  },
  {
   "cell_type": "code",
   "execution_count": 3,
   "id": "35939a73",
   "metadata": {},
   "outputs": [],
   "source": [
    "def unpickle(file):\n",
    "    import pickle\n",
    "    with open(file, 'rb') as fo:\n",
    "        dict = pickle.load(fo, encoding='latin1')\n",
    "    return dict"
   ]
  },
  {
   "cell_type": "code",
   "execution_count": 4,
   "id": "3a6d3537",
   "metadata": {},
   "outputs": [],
   "source": [
    "file=r'nnfs_dataset/data_batch_1'\n",
    "db=unpickle(file)\n",
    "data1=db[b'data']\n",
    "label1=np.asarray(db[b'labels'])\n",
    "\n",
    "file=r'nnfs_dataset/data_batch_2'\n",
    "db=unpickle(file)\n",
    "data2=db[b'data']\n",
    "label2=np.asarray(db[b'labels'])\n",
    "\n",
    "file=r'nnfs_dataset/data_batch_3'\n",
    "db=unpickle(file)\n",
    "data3=db[b'data']\n",
    "label3=np.asarray(db[b'labels'])\n",
    "\n",
    "file=r'nnfs_dataset/data_batch_4'\n",
    "db=unpickle(file)\n",
    "data4=db[b'data']\n",
    "label4=np.asarray(db[b'labels'])\n",
    "\n",
    "file=r'nnfs_dataset/data_batch_5'\n",
    "db=unpickle(file)\n",
    "data5=db[b'data']\n",
    "label5=np.asarray(db[b'labels'])\n",
    "\n"
   ]
  },
  {
   "cell_type": "code",
   "execution_count": 5,
   "id": "34248fe8",
   "metadata": {},
   "outputs": [],
   "source": [
    "y_train=np.concatenate((label1,label2,label3,label4,label5),axis=0)\n",
    "y_train=y_train.reshape(-1,)\n",
    "X_train=np.concatenate((data1,data2,data3,data4,data5),axis=0)\n",
    "m=X_train.shape[0]"
   ]
  },
  {
   "cell_type": "code",
   "execution_count": 6,
   "id": "ccd2b8a5",
   "metadata": {},
   "outputs": [],
   "source": [
    "image=X_train.reshape(50000,1,32,32).transpose(0,2,3,1)\n",
    "\n",
    "classes = [\"airplane\",\"automobile\",\"bird\",\"cat\",\"deer\",\"dog\",\"frog\",\"horse\",\"ship\",\"truck\"]\n"
   ]
  },
  {
   "cell_type": "code",
   "execution_count": 7,
   "id": "a927409c",
   "metadata": {},
   "outputs": [],
   "source": [
    "def plot_sample(X,y,index):\n",
    "    \n",
    "    plt.imshow(X[index])\n",
    "    plt.xlabel(classes[y[index]])"
   ]
  },
  {
   "cell_type": "code",
   "execution_count": 8,
   "id": "6f275754",
   "metadata": {},
   "outputs": [
    {
     "data": {
      "image/png": "[encoded data removed]",
      "text/plain": [
       "<Figure size 432x288 with 1 Axes>"
      ]
     },
     "metadata": {
      "needs_background": "light"
     },
     "output_type": "display_data"
    }
   ],
   "source": [
    "plot_sample(image,y_train,34678)"
   ]
  },
  {
   "cell_type": "code",
   "execution_count": 9,
   "id": "5d341f29",
   "metadata": {},
   "outputs": [],
   "source": [
    "X_train=X_train.T\n",
    "X_train=X_train/255\n"
   ]
  },
  {
   "cell_type": "code",
   "execution_count": 10,
   "id": "17c6d0fd",
   "metadata": {},
   "outputs": [],
   "source": [
    "def init_params():\n",
    "    W1 = np.random.rand(10, 1024) - 0.5\n",
    "    b1 = np.random.rand(10, 1) - 0.5\n",
    "    W2 = np.random.rand(10, 10) - 0.5\n",
    "    b2 = np.random.rand(1, 1) - 0.5\n",
    "    return W1, b1, W2, b2\n",
    "\n",
    "def ReLU(Z):\n",
    "    return np.maximum(Z, 0)\n",
    "\n",
    "def softmax(Z):\n",
    "    A = np.exp(Z) / sum(np.exp(Z))\n",
    "    return A\n",
    "    \n",
    "def forward_prop(W1, b1, W2, b2, X):\n",
    "    Z1 = W1.dot(X) + b1\n",
    "    A1 = ReLU(Z1)\n",
    "    Z2 = W2.dot(A1) + b2\n",
    "    A2 = softmax(Z2)\n",
    "    return Z1, A1, Z2, A2\n",
    "\n",
    "def ReLU_deriv(Z):\n",
    "    return Z > 0\n",
    "\n",
    "def one_hot(Y):\n",
    "    one_hot_Y = np.zeros((Y.size, Y.max() + 1))\n",
    "    one_hot_Y[np.arange(Y.size), Y] = 1\n",
    "    one_hot_Y = one_hot_Y.T\n",
    "    return one_hot_Y\n",
    "\n",
    "def backward_prop(Z1, A1, Z2, A2, W1, W2, X, Y):\n",
    "    one_hot_Y = one_hot(Y)\n",
    "    dZ2 = A2 - one_hot_Y\n",
    "    dW2 = 1 / m * dZ2.dot(A1.T)\n",
    "    db2 = 1 / m * np.sum(dZ2)\n",
    "    dZ1 = W2.T.dot(dZ2) * ReLU_deriv(Z1)\n",
    "    dW1 = 1 / m * dZ1.dot(X.T)\n",
    "    db1 = 1 / m * np.sum(dZ1)\n",
    "    return dW1, db1, dW2, db2, one_hot_Y\n",
    "\n",
    "def update_params(W1, b1, W2, b2, dW1, db1, dW2, db2, alpha):\n",
    "    W1 = W1 - alpha * dW1\n",
    "    b1 = b1 - alpha * db1    \n",
    "    W2 = W2 - alpha * dW2  \n",
    "    b2 = b2 - alpha * db2    \n",
    "    return W1, b1, W2, b2"
   ]
  },
  {
   "cell_type": "code",
   "execution_count": 11,
   "id": "acafd2f4",
   "metadata": {},
   "outputs": [],
   "source": [
    "def get_predictions(A2):\n",
    "    return np.argmax(A2, 0)\n",
    "\n",
    "def get_accuracy(predictions, Y):\n",
    "    print(predictions, Y)\n",
    "    return np.sum(predictions == Y) / Y.size\n",
    "\n",
    "def gradient_descent(X, Y, alpha, iterations):\n",
    "    W1, b1, W2, b2 = init_params()\n",
    "    acc=[]\n",
    "    for i in range(iterations):\n",
    "        Z1, A1, Z2, A2 = forward_prop(W1, b1, W2, b2, X)\n",
    "        dW1, db1, dW2, db2, one_hot_Y= backward_prop(Z1, A1, Z2, A2, W1, W2, X, Y)\n",
    "        W1, b1, W2, b2 = update_params(W1, b1, W2, b2, dW1, db1, dW2, db2, alpha)\n",
    "        #print(one_hot_Y)\n",
    "        if i % 10 == 0:\n",
    "            print(\"Iteration: \", i)\n",
    "            predictions = get_predictions(A2)\n",
    "            print(get_accuracy(predictions, Y))\n",
    "            a=get_accuracy(predictions, Y)\n",
    "            acc.append(a)\n",
    "            print(acc)\n",
    "            #plt.plot(x=list(range(0, len(iterations), acc)\n",
    "                    \n",
    "    #return W1, b1, W2, b2, acc;\n",
    "    return acc\n"
   ]
  },
  {
   "cell_type": "code",
   "execution_count": 12,
   "id": "bcbcdf95",
   "metadata": {},
   "outputs": [
    {
     "name": "stdout",
     "output_type": "stream",
     "text": [
      "Iteration:  0\n",
      "[2 6 2 ... 2 6 6] [6 9 9 ... 9 1 1]\n",
      "0.1027\n",
      "[2 6 2 ... 2 6 6] [6 9 9 ... 9 1 1]\n",
      "[0.1027]\n",
      "Iteration:  10\n",
      "[0 0 0 ... 0 0 0] [6 9 9 ... 9 1 1]\n",
      "0.10838\n",
      "[0 0 0 ... 0 0 0] [6 9 9 ... 9 1 1]\n",
      "[0.1027, 0.10838]\n",
      "Iteration:  20\n",
      "[0 0 0 ... 0 0 0] [6 9 9 ... 9 1 1]\n",
      "0.1124\n",
      "[0 0 0 ... 0 0 0] [6 9 9 ... 9 1 1]\n",
      "[0.1027, 0.10838, 0.1124]\n",
      "Iteration:  30\n",
      "[0 0 0 ... 0 0 0] [6 9 9 ... 9 1 1]\n",
      "0.11108\n",
      "[0 0 0 ... 0 0 0] [6 9 9 ... 9 1 1]\n",
      "[0.1027, 0.10838, 0.1124, 0.11108]\n",
      "Iteration:  40\n",
      "[0 0 0 ... 0 0 0] [6 9 9 ... 9 1 1]\n",
      "0.11048\n",
      "[0 0 0 ... 0 0 0] [6 9 9 ... 9 1 1]\n",
      "[0.1027, 0.10838, 0.1124, 0.11108, 0.11048]\n",
      "Iteration:  50\n",
      "[0 0 0 ... 0 0 0] [6 9 9 ... 9 1 1]\n",
      "0.1103\n",
      "[0 0 0 ... 0 0 0] [6 9 9 ... 9 1 1]\n",
      "[0.1027, 0.10838, 0.1124, 0.11108, 0.11048, 0.1103]\n",
      "Iteration:  60\n",
      "[0 0 0 ... 0 0 0] [6 9 9 ... 9 1 1]\n",
      "0.11016\n",
      "[0 0 0 ... 0 0 0] [6 9 9 ... 9 1 1]\n",
      "[0.1027, 0.10838, 0.1124, 0.11108, 0.11048, 0.1103, 0.11016]\n",
      "Iteration:  70\n",
      "[0 0 0 ... 0 0 0] [6 9 9 ... 9 1 1]\n",
      "0.10998\n",
      "[0 0 0 ... 0 0 0] [6 9 9 ... 9 1 1]\n",
      "[0.1027, 0.10838, 0.1124, 0.11108, 0.11048, 0.1103, 0.11016, 0.10998]\n",
      "Iteration:  80\n",
      "[0 0 0 ... 0 0 0] [6 9 9 ... 9 1 1]\n",
      "0.11006\n",
      "[0 0 0 ... 0 0 0] [6 9 9 ... 9 1 1]\n",
      "[0.1027, 0.10838, 0.1124, 0.11108, 0.11048, 0.1103, 0.11016, 0.10998, 0.11006]\n",
      "Iteration:  90\n",
      "[0 0 0 ... 0 0 0] [6 9 9 ... 9 1 1]\n",
      "0.11006\n",
      "[0 0 0 ... 0 0 0] [6 9 9 ... 9 1 1]\n",
      "[0.1027, 0.10838, 0.1124, 0.11108, 0.11048, 0.1103, 0.11016, 0.10998, 0.11006, 0.11006]\n"
     ]
    },
    {
     "data": {
      "image/png": "[encoded data removed]",
      "text/plain": [
       "<Figure size 432x288 with 1 Axes>"
      ]
     },
     "metadata": {
      "needs_background": "light"
     },
     "output_type": "display_data"
    }
   ],
   "source": [
    "#W1, b1, W2, b2, acc = gradient_descent(X_train, y_train, 0.1, 100)\n",
    "acc=gradient_descent(X_train, y_train, 0.1, 100)\n",
    "plt.plot(scalex=list(range(0,100)), scaley= acc)\n",
    "plt.xlabel('iterations')\n",
    "plt.ylabel('accuracy')\n",
    "plt.title('iterations vs accuracy')\n",
    "plt.show()"
   ]
  },
  {
   "cell_type": "code",
   "execution_count": null,
   "id": "53391b02",
   "metadata": {},
   "outputs": [],
   "source": []
  },
  {
   "cell_type": "code",
   "execution_count": null,
   "id": "a1afab77",
   "metadata": {},
   "outputs": [],
   "source": []
  },
  {
   "cell_type": "code",
   "execution_count": null,
   "id": "96bca4f3",
   "metadata": {},
   "outputs": [],
   "source": []
  }
 ],
 "metadata": {
  "kernelspec": {
   "display_name": "Python 3 (ipykernel)",
   "language": "python",
   "name": "python3"
  },
  "language_info": {
   "codemirror_mode": {
    "name": "ipython",
    "version": 3
   },
   "file_extension": ".py",
   "mimetype": "text/x-python",
   "name": "python",
   "nbconvert_exporter": "python",
   "pygments_lexer": "ipython3",
   "version": "3.9.7"
  }
 },
 "nbformat": 4,
 "nbformat_minor": 5
}
